{
 "cells": [
  {
   "cell_type": "code",
   "execution_count": null,
   "id": "05da6343",
   "metadata": {
    "ExecuteTime": {
     "end_time": "2022-12-03T00:28:41.489110Z",
     "start_time": "2022-12-03T00:28:41.478332Z"
    }
   },
   "outputs": [],
   "source": [
    "import numpy as np\n",
    "import matplotlib.pyplot as plt\n",
    "import matplotlib\n",
    "from matplotlib import cm\n",
    "from mpl_toolkits.mplot3d import Axes3D\n",
    "import os\n",
    "import subprocess\n",
    "plt.rc('text', usetex=True)"
   ]
  },
  {
   "cell_type": "code",
   "execution_count": null,
   "id": "245495b7",
   "metadata": {
    "ExecuteTime": {
     "end_time": "2022-12-03T00:25:15.154041Z",
     "start_time": "2022-12-03T00:25:15.112254Z"
    },
    "scrolled": true
   },
   "outputs": [],
   "source": [
    "#os.system('cd .')\n",
    "os.system('ls')"
   ]
  },
  {
   "cell_type": "code",
   "execution_count": null,
   "id": "2a2ad65b",
   "metadata": {
    "ExecuteTime": {
     "end_time": "2022-12-03T00:21:51.059546Z",
     "start_time": "2022-12-03T00:21:51.038981Z"
    }
   },
   "outputs": [],
   "source": [
    "# Constants (currently set for Earth vals)\n",
    "\n",
    "Tinit = 10 # C\n",
    "Tvar = 12 # C\n",
    "Tbottom = 11 # C\n",
    "\n",
    "# Diffusion constant (https://www.nature.com/articles/nature07818)\n",
    "alpha = 0.0864 # m^2 / day\n",
    "\n",
    "# times \n",
    "tyear = 365 # d\n",
    "ti = 0 # d\n",
    "tf = 5*tyear # d\n",
    "dt = 0.5 # d\n",
    "\n",
    "# Depth, width, length (need to keep dt < a**2/(2*alpha))\n",
    "D = 20 # m\n",
    "Nd = 50\n",
    "W = 50 # m\n",
    "Nw = 50\n",
    "L = 4e7 # m\n",
    "Nl = 50\n",
    "ad = D/Nd\n",
    "aw = W/Nw"
   ]
  },
  {
   "cell_type": "code",
   "execution_count": null,
   "id": "14d8d187",
   "metadata": {
    "ExecuteTime": {
     "end_time": "2022-12-03T00:21:51.237851Z",
     "start_time": "2022-12-03T00:21:51.209084Z"
    }
   },
   "outputs": [],
   "source": [
    "def get_grid(mx, my, mz, Lx,Ly,Lz):\n",
    "    #print('mx,my,mz = ',mx,my,mz)\n",
    "    ix, iy, iz = Lx*np.linspace(0,1,mx), Ly*np.linspace(0,1,my), Lz*np.linspace(0,1,mz)\n",
    "    x, y, z = np.meshgrid(ix,iy,iz, indexing='ij')\n",
    "    #print('ix', ix), print('iy', iy), print('iz', iz)\n",
    "    return x,y,z\n",
    "\n",
    "def plot_grid(x,y,z,T, t, filename):\n",
    "    def plot_boundary_only(x,y,z,T):\n",
    "        #mx, my, mz = x.shape\n",
    "        x[1:-1, 1:-1, 1:-1],y[1:-1, 1:-1, 1:-1],z[1:-1, 1:-1, 1:-1],T[1:-1, 1:-1, 1:-1] = np.nan, np.nan, np.nan, np.nan \\\n",
    "                #This removes interior because we cannot see it anyway? reduces time to plot\n",
    "        return x,y,z,T\n",
    "    \n",
    "    x,y,z,T = plot_boundary_only(x,y,z,T)   \n",
    "    fig = plt.figure(figsize=(15,15))\n",
    "    ax = fig.add_subplot(111, projection='3d')\n",
    "    img = ax.scatter(x,y,z, c=T.reshape(-1), s=150, cmap=plt.inferno())\n",
    "    cbar = fig.colorbar(img, orientation='horizontal', fraction=0.047, pad=0.15, aspect=15)\n",
    "    plt.tick_params(axis='both', which='major', labelsize=18)\n",
    "    cbar.ax.tick_params(labelsize=20)\n",
    "    cbar.set_label(r'Temperature ($^oC$)', size = 22)\n",
    "    \n",
    "    ax.text(0,0,-25, 't = %i days'%t, fontsize=20)\n",
    "    ax.set_xticklabels(['%i'%(l*W/Nw) for l in ax.get_xticks()])\n",
    "    ax.set_yticklabels(['%i'%(l*L/Nl/1e3) for l in ax.get_yticks()])\n",
    "    ax.set_zticklabels(['%i'%(l*D/Nd) for l in ax.get_zticks()])\n",
    "    ax.set_ylabel('Y (km)', labelpad=20, fontsize=20)\n",
    "    ax.set_xlabel('X (m)', labelpad=20, rotation=0, fontsize=20)\n",
    "    ax.set_zlabel('Depth from surface (m)', rotation=0, fontsize=20)\n",
    "    ax.invert_zaxis()\n",
    "#     plt.tight_layout()\n",
    "    #plt.savefig('tempevolution_plots/temp%s.png'%count)\n",
    "    plt.savefig(filename, bbox_inches='tight')\n",
    "    plt.show()\n",
    "    \n",
    "def init_T(x,y,z, T_3d):\n",
    "    #print('size of y = ', np.shape(y))\n",
    "    T = np.zeros_like(x)\n",
    "    #print('Size of T = ',np.shape(T))\n",
    "    T = T_3d\n",
    "    return T\n"
   ]
  },
  {
   "cell_type": "code",
   "execution_count": null,
   "id": "cdb7e69a",
   "metadata": {
    "ExecuteTime": {
     "end_time": "2022-12-03T00:21:51.581601Z",
     "start_time": "2022-12-03T00:21:51.570840Z"
    }
   },
   "outputs": [],
   "source": [
    "def show_plot(crust, t):\n",
    "    fig, ax = plt.subplots(1,1, figsize=(5,4))\n",
    "    im = ax.imshow(crust, vmin=0, vmax=20, cmap = 'inferno', aspect = 1 * (Nw/Nd))\n",
    "    cbar = fig.colorbar(im, ax=ax)\n",
    "    cbar.set_label('$\\mathrm{Temperature\\ [K]}$', rotation=270, labelpad=15)\n",
    "    ax.set_title('$\\mathrm{t = %i\\ days}$'%t)\n",
    "    ax.set_xlabel('$\\mathrm{Width}$')\n",
    "    ax.set_ylabel('$\\mathrm{Depth}$')\n"
   ]
  },
  {
   "cell_type": "code",
   "execution_count": null,
   "id": "df726519",
   "metadata": {
    "ExecuteTime": {
     "end_time": "2022-12-03T00:35:20.353798Z",
     "start_time": "2022-12-03T00:35:12.379560Z"
    },
    "scrolled": true
   },
   "outputs": [],
   "source": [
    "# Initialize \"crust\": 2D array of T = Tinit except at bottom\n",
    "crust = np.full((Nd,Nw), Tinit, dtype='float')\n",
    "crust[Nd-1] = Tbottom\n",
    "\n",
    "count = 0\n",
    "for t in np.arange(ti, tf+dt, dt):\n",
    "    \n",
    "    # periodic heating at surface with phase shift (INCORRECT ON SUB-DAY TIMESCALE)\n",
    "    phase = np.arange(Nw)/Nw\n",
    "    crust[0] = Tinit + Tvar*np.sin(2*np.pi*(t/tyear+phase))\n",
    "    \n",
    "    # depth (skipping top and bottom to maintain boundaries)\n",
    "    for i in range(1, Nd-1):\n",
    "        # width (periodic boundary connecting 0 to Nw)\n",
    "        for j in range(0, Nw):\n",
    "            # evolve crust with FTCS approach! (in 2D)\n",
    "            \n",
    "            if j == Nw-1: # to avoid overflow at crust[i,j+1]\n",
    "                crust[i,j] = crust[i,j] + dt*alpha*(\n",
    "                    (crust[i+1,j] + crust[i-1,j] - 2*crust[i,j])/ad**2 + \n",
    "                    (crust[i,0] + crust[i,j-1] - 2*crust[i,j])/aw**2)\n",
    "            else:\n",
    "                crust[i,j] = crust[i,j] + dt*alpha*(\n",
    "                    (crust[i+1,j] + crust[i-1,j] - 2*crust[i,j])/ad**2 + \n",
    "                    (crust[i,j+1] + crust[i,j-1] - 2*crust[i,j])/aw**2)\n",
    "    \n",
    "    # Show plot\n",
    "\n",
    "    if t%(tyear//52) == 0:\n",
    "        crust_3d = np.zeros((Nw,Nl,Nd))\n",
    "\n",
    "        for i in range(Nd):\n",
    "            crust_3d[i,:,:] = crust.T\n",
    "        \n",
    "        #show_plot(crust, t)\n",
    "        #plt.show()\n",
    "        nx, ny, nz = Nw, Nl, Nd\n",
    "        Lx, Ly, Lz = nx-1, ny-1, nz-1\n",
    "        x,y,z = get_grid(nx, ny, nz, Lx,Ly,Lz)  # generate a grid with mesh size Δx = Δy = Δz = 1\n",
    "        T = init_T(x,y,z, crust_3d)\n",
    "        filename = 'tempevolution_plots/temp'+str(count).zfill(3)+'.png'\n",
    "        plot_grid(x,y,z,T, t, filename)\n",
    "        count += 1\n",
    "\n",
    "#creating the animation\n",
    "os.system('ffmpeg -i tempevolution_plots/temp%03d.png  -c:v libx264 -r 8 -pix_fmt yuv420p -vf \\\n",
    "                    \"scale=trunc(iw/2)*2:trunc(ih/2)*2\" tempevolution_plots/surface_temp.mp4')\n"
   ]
  },
  {
   "cell_type": "code",
   "execution_count": null,
   "id": "95107ef4",
   "metadata": {
    "ExecuteTime": {
     "end_time": "2022-12-03T00:14:52.230041Z",
     "start_time": "2022-12-03T00:14:52.187885Z"
    },
    "scrolled": true
   },
   "outputs": [],
   "source": [
    "#Dufort-Frenkel trial\n",
    "\n",
    "'''\n",
    "# Constants (currently set for Earth vals)\n",
    "\n",
    "Tinit = 10 # C\n",
    "Tvar = 12 # C\n",
    "Tbottom = 11 # C\n",
    "\n",
    "# Diffusion constant (https://www.nature.com/articles/nature07818)\n",
    "#alpha = 0.0864 # m^2 / day\n",
    "D = 0.0864\n",
    "\n",
    "# times \n",
    "tyear = 365 # d\n",
    "ti = 0 # d\n",
    "tf = 1*tyear # d\n",
    "dt = 1 # d\n",
    "tn = int((tf-ti)/dt) #number of timesteps\n",
    "\n",
    "# Depth and width\n",
    "d = 20 # m\n",
    "Nd = 100\n",
    "W = 4e6 # m\n",
    "Nw = 100\n",
    "ad = d/Nd\n",
    "aw = W/Nw\n",
    "\n",
    "crust = np.full((tn,Nw,Nd),Tinit, dtype=float)\n",
    "\n",
    "\n",
    "\n",
    "crust[0,:,0] = Tbottom\n",
    "crust[0,:,Nd-1] = crust[0,:,Nd-1] * np.sin(2*np.pi*np.linspace(0,1,Nw))\n",
    "\n",
    "alpha = (2*D*dt)/ad\n",
    "\n",
    "for n in range(tn):\n",
    "    print('timestep = ',n)\n",
    "    for mx in range(Nw-1):\n",
    "        for my in range(Nd-1):\n",
    "            #print('mx+1 = ',mx+1)\n",
    "            if (mx+1 > Nw-1 or my+1 > Nd-1):\n",
    "                print('Edge')\n",
    "                crust[n,mx,my]  =  (((1-alpha) / (1+alpha)) * crust[n-2,mx,my])  + \\\n",
    "                                        ((alpha / (1+alpha)) * ( crust[n-1,0,my] + crust[n-1,mx-1,my] + \\\n",
    "                                                    crust[n-1,mx,0] + crust[n-1,mx,my-1] ))\n",
    "            else:    \n",
    "                #print('mx, my, n = ',mx,my,n)\n",
    "                crust[n,mx,my]  =  (((1-alpha) / (1+alpha)) * crust[n-2,mx+1,my])  + \\\n",
    "                                        ((alpha / (1+alpha)) * ( crust[n-1,mx,my] + crust[n-1,mx-1,my] + \\\n",
    "                                                    crust[n-1,mx,my+1] + crust[n-1,mx,my-1] ))\n",
    "            \n",
    "         \n",
    "plt.figure(figsize=(6,4), dpi = 120)\n",
    "plt.imshow(crust[0].T, origin='lower')\n",
    "plt.colorbar()\n",
    "\n",
    "'''"
   ]
  },
  {
   "cell_type": "code",
   "execution_count": null,
   "id": "1e1001f4",
   "metadata": {},
   "outputs": [],
   "source": []
  }
 ],
 "metadata": {
  "kernelspec": {
   "display_name": "Python 3 (ipykernel)",
   "language": "python",
   "name": "python3"
  },
  "language_info": {
   "codemirror_mode": {
    "name": "ipython",
    "version": 3
   },
   "file_extension": ".py",
   "mimetype": "text/x-python",
   "name": "python",
   "nbconvert_exporter": "python",
   "pygments_lexer": "ipython3",
   "version": "3.8.11"
  }
 },
 "nbformat": 4,
 "nbformat_minor": 5
}
